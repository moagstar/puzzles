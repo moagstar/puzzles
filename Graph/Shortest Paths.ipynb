{
 "cells": [
  {
   "cell_type": "markdown",
   "metadata": {},
   "source": [
    "# Shortest Paths\n",
    "Find all shortest paths in an unweighted undirected graph starting at node a and finishing at node b."
   ]
  },
  {
   "cell_type": "code",
   "execution_count": 16,
   "metadata": {
    "collapsed": false
   },
   "outputs": [
    {
     "data": {
      "text/plain": [
       "[[u'Frankfurt', u'W\\xfcrzburg', u'M\\xfcnchen'],\n",
       " [u'Frankfurt', u'Kassel', u'M\\xfcnchen']]"
      ]
     },
     "execution_count": 16,
     "metadata": {},
     "output_type": "execute_result"
    }
   ],
   "source": [
    "import sys\n",
    "        \n",
    "    \n",
    "def find_shortest_paths(graph, start, end, path=None):\n",
    "    \n",
    "    path = path or []\n",
    "    path = path + [start]\n",
    "    \n",
    "    if start == end:\n",
    "        return [path]\n",
    "    \n",
    "    if not graph.has_key(start):\n",
    "        return None\n",
    "    \n",
    "    shortest = []\n",
    "    \n",
    "    for node in graph[start]:\n",
    "        if node not in path:\n",
    "            newpath = find_shortest_paths(graph, node, end, path)\n",
    "            if newpath:\n",
    "                if not shortest or len(newpath[0]) < len(shortest[0]):\n",
    "                    shortest = newpath\n",
    "                elif len(newpath[0]) == len(shortest[0]):\n",
    "                    shortest += newpath\n",
    "              \n",
    "    return shortest\n",
    "                \n",
    "        \n",
    "example_graph = {\n",
    "    u'Frankfurt': [u'Mannheim', u'Würzburg', u'Kassel'],\n",
    "    u'Mannheim': [u'Frankfurt', u'Karlsruhe'],\n",
    "    u'Karlsruhe': [u'Augsburg', u'München'],\n",
    "    u'Augsburg': [u'München', u'Karlsruhe'],\n",
    "    u'München': [u'Würzburg', u'Augsburg', u'Nürnberg', u'Kassel'],\n",
    "    u'Nürnberg': [u'München', u'Stuttgart', u'Würzburg'],\n",
    "    u'Stuttgart': [u'Nürnberg'],\n",
    "    u'Kassel': [u'München', u'Frankfurt'],\n",
    "    u'Würzburg': [u'München', u'Nürnberg', u'Frankfurt', u'Erfurt'],\n",
    "    u'Erfurt': [u'Würzburg'],\n",
    "}\n",
    "\n",
    "\n",
    "find_shortest_paths(example_graph, u'Frankfurt', u'München')"
   ]
  },
  {
   "cell_type": "code",
   "execution_count": 17,
   "metadata": {
    "collapsed": false
   },
   "outputs": [
    {
     "name": "stdout",
     "output_type": "stream",
     "text": [
      "100000 loops, best of 3: 9.82 µs per loop\n"
     ]
    }
   ],
   "source": [
    "%%timeit\n",
    "find_shortest_paths(example_graph, u'Frankfurt', u'München')"
   ]
  }
 ],
 "metadata": {
  "kernelspec": {
   "display_name": "Python 2",
   "language": "python",
   "name": "python2"
  },
  "language_info": {
   "codemirror_mode": {
    "name": "ipython",
    "version": 2
   },
   "file_extension": ".py",
   "mimetype": "text/x-python",
   "name": "python",
   "nbconvert_exporter": "python",
   "pygments_lexer": "ipython2",
   "version": "2.7.10"
  }
 },
 "nbformat": 4,
 "nbformat_minor": 0
}
