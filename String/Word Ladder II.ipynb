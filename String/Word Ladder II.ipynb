{
 "cells": [
  {
   "cell_type": "markdown",
   "metadata": {},
   "source": [
    "# Word Ladder II"
   ]
  },
  {
   "cell_type": "code",
   "execution_count": 1,
   "metadata": {
    "collapsed": false
   },
   "outputs": [
    {
     "data": {
      "text/html": [
       "<a href=\"https://leetcode.com/problems/word-ladder-ii\">Source : https://leetcode.com/problems/word-ladder-ii</a><div class=\"question-content\">\n",
       "<p></p><p>\r\n",
       "Given two words (<i>beginWord</i> and <i>endWord</i>), and a dictionary's word list, find all shortest transformation sequence(s) from <i>beginWord</i> to <i>endWord</i>, such that:\r\n",
       "</p>\n",
       "<ol>\n",
       "<li>Only one letter can be changed at a time</li>\n",
       "<li>Each intermediate word must exist in the word list</li>\n",
       "</ol>\n",
       "<p>\r\n",
       "For example,\r\n",
       "</p>\n",
       "<p>\r\n",
       "Given:<br/>\n",
       "<i>beginWord</i> = <code>\"hit\"</code><br/>\n",
       "<i>endWord</i> = <code>\"cog\"</code><br/>\n",
       "<i>wordList</i> = <code>[\"hot\",\"dot\",\"dog\",\"lot\",\"log\"]</code><br/>\n",
       "</p>\n",
       "<p>\r\n",
       "Return<br/>\n",
       "</p><pre>\r\n",
       "  [\r\n",
       "    [\"hit\",\"hot\",\"dot\",\"dog\",\"cog\"],\r\n",
       "    [\"hit\",\"hot\",\"lot\",\"log\",\"cog\"]\r\n",
       "  ]\r\n",
       "</pre>\n",
       "<p>\n",
       "<b>Note:</b><br/>\n",
       "</p><ul>\n",
       "<li>All words have the same length.</li>\n",
       "<li>All words contain only lowercase alphabetic characters.</li>\n",
       "</ul>\n",
       "<div>\n",
       "<p></p>\n",
       "</div>\n",
       "<div>\n",
       "\n",
       "<span class=\"hidebutton\">\n",
       "<a class=\"btn btn-xs btn-primary\" href=\"https://leetcode.com/tag/array/\">Array</a>\n",
       "<a class=\"btn btn-xs btn-primary\" href=\"https://leetcode.com/tag/backtracking/\">Backtracking</a>\n",
       "<a class=\"btn btn-xs btn-primary\" href=\"https://leetcode.com/tag/breadth-first-search/\">Breadth-first Search</a>\n",
       "<a class=\"btn btn-xs btn-primary\" href=\"https://leetcode.com/tag/string/\">String</a>\n",
       "</span>\n",
       "</div>\n",
       "</div>"
      ],
      "text/plain": [
       "<IPython.core.display.HTML object>"
      ]
     },
     "metadata": {},
     "output_type": "display_data"
    }
   ],
   "source": [
    "import sys; sys.path.append('../..')\n",
    "from puzzles import leet_puzzle\n",
    "leet_puzzle('word-ladder-ii')"
   ]
  },
  {
   "cell_type": "code",
   "execution_count": 8,
   "metadata": {
    "collapsed": false
   },
   "outputs": [
    {
     "name": "stdout",
     "output_type": "stream",
     "text": [
      "('hit', 'hot', 'dot', 'dog', 'cog')\n",
      "('hit', 'hot', 'lot', 'log', 'cog')\n"
     ]
    }
   ],
   "source": [
    "import itertools\n",
    "\n",
    "\n",
    "def simple_distance(s1, s2):\n",
    "    return sum(c1 != c2 for c1, c2 in itertools.izip(s1, s2))\n",
    "\n",
    "\n",
    "def get_transformations(begin_word, end_word, valid_words):\n",
    "    \n",
    "    results = set()\n",
    "    for permutation in itertools.permutations(valid_words + [end_word]):\n",
    "        \n",
    "        result = []\n",
    "        word = begin_word\n",
    "        \n",
    "        for valid_word in permutation:\n",
    "            if simple_distance(word, valid_word) == 1:\n",
    "                result += [valid_word]\n",
    "                word = valid_word\n",
    "                \n",
    "        if len(result) and result[-1] == end_word:\n",
    "            results.add(tuple([begin_word] + result))\n",
    "            \n",
    "    return results\n",
    "\n",
    "\n",
    "def word_ladder_2(begin_word, end_word, valid_words):\n",
    "    \n",
    "    assert len(begin_word) == len(end_word)\n",
    "    \n",
    "    transformations = get_transformations(begin_word, end_word, valid_words)\n",
    "    \n",
    "    shortest_len = len(min(transformations, key=len))\n",
    "    shortest = [x for x in transformations if len(x) == shortest_len]\n",
    "    \n",
    "    return shortest\n",
    "\n",
    "\n",
    "actual = word_ladder_2(\"hit\", \"cog\", [\"hot\",\"dot\",\"dog\",\"lot\",\"log\",\"cat\"])\n",
    "expected = [('hit', 'hot', 'lot', 'log', 'cog'), ('hit', 'hot', 'dot', 'dog', 'cog')]\n",
    "for result in sorted(actual):\n",
    "    print result\n",
    "assert sorted(expected) == sorted(actual)"
   ]
  },
  {
   "cell_type": "code",
   "execution_count": 21,
   "metadata": {
    "collapsed": false
   },
   "outputs": [
    {
     "name": "stdout",
     "output_type": "stream",
     "text": [
      "10 loops, best of 3: 68 ms per loop\n"
     ]
    }
   ],
   "source": [
    "%%timeit\n",
    "word_ladder_2(\"hit\", \"cog\", [\"hot\",\"dot\",\"dog\",\"lot\",\"log\",\"cat\"])"
   ]
  },
  {
   "cell_type": "code",
   "execution_count": 12,
   "metadata": {
    "collapsed": false
   },
   "outputs": [
    {
     "name": "stdout",
     "output_type": "stream",
     "text": [
      "('hit', 'hot', 'dot', 'dog', 'cog')\n",
      "('hit', 'hot', 'lot', 'log', 'cog')\n"
     ]
    }
   ],
   "source": [
    "import collections, itertools, sys\n",
    "\n",
    "\n",
    "def simple_distance(s1, s2):\n",
    "    return sum(c1 != c2 for c1, c2 in itertools.izip(s1, s2))\n",
    "\n",
    "\n",
    "def build_graph(words):\n",
    "    \n",
    "    graph = collections.defaultdict(list)\n",
    "    \n",
    "    for word1, word2 in itertools.permutations(words, 2):\n",
    "        if simple_distance(word1, word2) == 1:\n",
    "            graph[word1].append(word2)\n",
    "            \n",
    "    return graph\n",
    "\n",
    "\n",
    "def find_shortest_paths(graph, start, end, path=None):\n",
    "    \n",
    "    path = path or []\n",
    "    path = path + [start]\n",
    "    \n",
    "    if start == end:\n",
    "        return [path]\n",
    "    \n",
    "    if not graph.has_key(start):\n",
    "        return None\n",
    "    \n",
    "    shortest = []\n",
    "    \n",
    "    for node in graph[start]:\n",
    "        if node not in path:\n",
    "            newpath = find_shortest_paths(graph, node, end, path)\n",
    "            if newpath:\n",
    "                if not shortest or len(newpath[0]) < len(shortest[0]):\n",
    "                    shortest = newpath\n",
    "                elif len(newpath[0]) == len(shortest[0]):\n",
    "                    shortest += newpath\n",
    "              \n",
    "    return shortest\n",
    "\n",
    "    \n",
    "def word_ladder_2(begin, end, valid_words):\n",
    "    graph = build_graph(words + [begin, end])\n",
    "    return [\n",
    "        tuple(x)\n",
    "        for x in find_shortest_paths(graph, begin, end)\n",
    "    ]\n",
    "    \n",
    "    \n",
    "words = [\"hot\", \"dot\", \"dog\", \"lot\", \"log\", \"cat\"]\n",
    "begin, end = \"hit\", \"cog\"\n",
    "actual = word_ladder_2(begin, end, words)\n",
    "for result in sorted(actual):\n",
    "    print result\n",
    "assert sorted(expected) == sorted(actual)"
   ]
  },
  {
   "cell_type": "code",
   "execution_count": 13,
   "metadata": {
    "collapsed": false
   },
   "outputs": [
    {
     "name": "stdout",
     "output_type": "stream",
     "text": [
      "10000 loops, best of 3: 133 µs per loop\n"
     ]
    }
   ],
   "source": [
    "%%timeit\n",
    "words = [\"hot\",\"dot\",\"dog\",\"lot\",\"log\",\"cat\"]\n",
    "begin, end = \"hit\", \"cog\"\n",
    "word_ladder_2(begin, end, words)"
   ]
  }
 ],
 "metadata": {
  "kernelspec": {
   "display_name": "Python 2",
   "language": "python",
   "name": "python2"
  },
  "language_info": {
   "codemirror_mode": {
    "name": "ipython",
    "version": 2
   },
   "file_extension": ".py",
   "mimetype": "text/x-python",
   "name": "python",
   "nbconvert_exporter": "python",
   "pygments_lexer": "ipython2",
   "version": "2.7.6"
  }
 },
 "nbformat": 4,
 "nbformat_minor": 0
}
