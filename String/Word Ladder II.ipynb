{
 "cells": [
  {
   "cell_type": "markdown",
   "metadata": {},
   "source": [
    "# Word Ladder II"
   ]
  },
  {
   "cell_type": "code",
   "execution_count": 23,
   "metadata": {
    "collapsed": false
   },
   "outputs": [
    {
     "name": "stdout",
     "output_type": "stream",
     "text": [
      "[('hit', 'hot', 'lot', 'log', 'cog'), ('hit', 'hot', 'dot', 'dog', 'cog')]\n"
     ]
    }
   ],
   "source": [
    "import itertools\n",
    "\n",
    "\n",
    "def simple_distance(s1, s2):\n",
    "    return sum(c1 != c2 for c1, c2 in itertools.izip(s1, s2))\n",
    "\n",
    "\n",
    "def get_transformations(begin_word, end_word, valid_words):\n",
    "    \n",
    "    results = set()\n",
    "    for permutation in itertools.permutations(valid_words + [end_word]):\n",
    "        \n",
    "        result = []\n",
    "        word = begin_word\n",
    "        \n",
    "        for valid_word in permutation:\n",
    "            if simple_distance(word, valid_word) == 1:\n",
    "                result += [valid_word]\n",
    "                word = valid_word\n",
    "                \n",
    "        if len(result) and result[-1] == end_word:\n",
    "            results.add(tuple([begin_word] + result))\n",
    "            \n",
    "    return results\n",
    "\n",
    "\n",
    "def word_ladder_2(begin_word, end_word, valid_words):\n",
    "    \n",
    "    assert len(begin_word) == len(end_word)\n",
    "    \n",
    "    transformations = get_transformations(begin_word, end_word, valid_words)\n",
    "    \n",
    "    shortest_len = len(min(transformations, key=len))\n",
    "    shortest = [x for x in transformations if len(x) == shortest_len]\n",
    "    \n",
    "    return shortest\n",
    "\n",
    "\n",
    "actual = word_ladder_2(\"hit\", \"cog\", [\"hot\",\"dot\",\"dog\",\"lot\",\"log\",\"cat\"])\n",
    "expected = [('hit', 'hot', 'lot', 'log', 'cog'), ('hit', 'hot', 'dot', 'dog', 'cog')]\n",
    "print actual\n",
    "assert expected == actual"
   ]
  },
  {
   "cell_type": "code",
   "execution_count": 21,
   "metadata": {
    "collapsed": false
   },
   "outputs": [
    {
     "name": "stdout",
     "output_type": "stream",
     "text": [
      "10 loops, best of 3: 68 ms per loop\n"
     ]
    }
   ],
   "source": [
    "%%timeit\n",
    "word_ladder_2(\"hit\", \"cog\", [\"hot\",\"dot\",\"dog\",\"lot\",\"log\",\"cat\"])"
   ]
  },
  {
   "cell_type": "code",
   "execution_count": 51,
   "metadata": {
    "collapsed": false
   },
   "outputs": [
    {
     "data": {
      "text/plain": [
       "['hit', 'hot', 'dot', 'dog', 'cog']"
      ]
     },
     "execution_count": 51,
     "metadata": {},
     "output_type": "execute_result"
    }
   ],
   "source": [
    "import collections, itertools\n",
    "\n",
    "\n",
    "def simple_distance(s1, s2):\n",
    "    return sum(c1 != c2 for c1, c2 in itertools.izip(s1, s2))\n",
    "\n",
    "\n",
    "def build_graph(words):\n",
    "    \n",
    "    graph = collections.defaultdict(list)\n",
    "    \n",
    "    for word1, word2 in itertools.permutations(words, 2):\n",
    "        if simple_distance(word1, word2) == 1:\n",
    "            graph[word1].append(word2)\n",
    "            \n",
    "    return graph\n",
    "\n",
    "\n",
    "def find_shortest_path(graph, start, end, path=[]):\n",
    "    path = path + [start]\n",
    "    if start == end:\n",
    "        return path\n",
    "    if not graph.has_key(start):\n",
    "        return None\n",
    "    shortest = None\n",
    "    for node in graph[start]:\n",
    "        if node not in path:\n",
    "            newpath = find_shortest_path(graph, node, end, path)\n",
    "            if newpath:\n",
    "                if not shortest or len(newpath) < len(shortest):\n",
    "                    shortest = newpath\n",
    "    return shortest\n",
    "\n",
    "    \n",
    "def word_ladder_2(begin, end, valid_words):\n",
    "    graph = build_graph(words + [begin, end])\n",
    "    return find_shortest_path(graph, begin, end)\n",
    "    \n",
    "    \n",
    "words = [\"hot\",\"dot\",\"dog\",\"lot\",\"log\",\"cat\"]\n",
    "begin, end = \"hit\", \"cog\"\n",
    "word_ladder_2(begin, end, words)"
   ]
  },
  {
   "cell_type": "code",
   "execution_count": 41,
   "metadata": {
    "collapsed": false
   },
   "outputs": [
    {
     "name": "stdout",
     "output_type": "stream",
     "text": [
      "10000 loops, best of 3: 136 µs per loop\n"
     ]
    }
   ],
   "source": [
    "%%timeit\n",
    "words = [\"hot\",\"dot\",\"dog\",\"lot\",\"log\",\"cat\"]\n",
    "begin, end = \"hit\", \"cog\"\n",
    "word_ladder_2(begin, end, words)"
   ]
  }
 ],
 "metadata": {
  "kernelspec": {
   "display_name": "Python 2",
   "language": "python",
   "name": "python2"
  },
  "language_info": {
   "codemirror_mode": {
    "name": "ipython",
    "version": 2
   },
   "file_extension": ".py",
   "mimetype": "text/x-python",
   "name": "python",
   "nbconvert_exporter": "python",
   "pygments_lexer": "ipython2",
   "version": "2.7.6"
  }
 },
 "nbformat": 4,
 "nbformat_minor": 0
}
