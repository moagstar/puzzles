{
 "cells": [
  {
   "cell_type": "markdown",
   "metadata": {},
   "source": [
    "# Text Justification"
   ]
  },
  {
   "cell_type": "code",
   "execution_count": 140,
   "metadata": {
    "collapsed": false
   },
   "outputs": [
    {
     "data": {
      "text/html": [
       "<a href=\"https://leetcode.com/problems/text-justification\">Source : https://leetcode.com/problems/text-justification</a><div class=\"question-content\">\n",
       "<p></p><p>\r\n",
       "Given an array of words and a length <i>L</i>, format the text such that each line has exactly <i>L</i> characters and is fully (left and right) justified.\r\n",
       "</p>\n",
       "<p>\r\n",
       "You should pack your words in a greedy approach; that is, pack as many words as you can in each line. Pad extra spaces <code>' '</code> when necessary so that each line has exactly <i>L</i> characters.\r\n",
       "</p>\n",
       "<p>\r\n",
       "Extra spaces between words should be distributed as evenly as possible. If the number of spaces on a line do not divide evenly between words, the empty slots on the left will be assigned more spaces than the slots on the right.\r\n",
       "</p>\n",
       "<p>\r\n",
       "For the last line of text, it should be left justified and no extra space is inserted between words.\r\n",
       "</p>\n",
       "<p>\r\n",
       "For example,<br/>\n",
       "<b>words</b>: <code>[\"This\", \"is\", \"an\", \"example\", \"of\", \"text\", \"justification.\"]</code><br/>\n",
       "<b>L</b>: <code>16</code>.\r\n",
       "</p>\n",
       "<p>\r\n",
       "Return the formatted lines as:<br/>\n",
       "</p><pre>\r\n",
       "[\r\n",
       "   \"This    is    an\",\r\n",
       "   \"example  of text\",\r\n",
       "   \"justification.  \"\r\n",
       "]\r\n",
       "</pre>\n",
       "<p>\n",
       "<b>Note:</b> Each word is guaranteed not to exceed <i>L</i> in length.\r\n",
       "</p>\n",
       "<p class=\"showspoilers\"><a href=\"https://leetcode.com#\" onclick=\"showSpoilers(this); return false;\">click to show corner cases.</a></p>\n",
       "<div class=\"spoilers\"><b>Corner Cases:</b>\n",
       "<p>\n",
       "</p><ul>\n",
       "<li>A line other than the last line might contain only one word. What should you do in this case?<br/>\r\n",
       "In this case, that line should be left-justified.</li>\n",
       "</ul></div>\n",
       "<div>\n",
       "<p></p>\n",
       "</div>\n",
       "<div>\n",
       "\n",
       "<span class=\"hidebutton\">\n",
       "<a class=\"btn btn-xs btn-primary\" href=\"https://leetcode.com/tag/string/\">String</a>\n",
       "</span>\n",
       "</div>\n",
       "</div>"
      ],
      "text/plain": [
       "<IPython.core.display.HTML object>"
      ]
     },
     "metadata": {},
     "output_type": "display_data"
    }
   ],
   "source": [
    "import sys; sys.path.append('../..')\n",
    "from puzzles import leet_puzzle\n",
    "leet_puzzle('text-justification')"
   ]
  },
  {
   "cell_type": "code",
   "execution_count": 136,
   "metadata": {
    "collapsed": false,
    "scrolled": false
   },
   "outputs": [],
   "source": [
    "def justify_line(line, current_length, length):\n",
    "\n",
    "    if len(line) > 1:\n",
    "        # calculate the number of extra spaces required per word\n",
    "        extra_spaces = length - current_length + (len(line) - 1)\n",
    "        extra_spaces_per_word = extra_spaces / (len(line) - 1)\n",
    "        sep = ' '  * extra_spaces_per_word\n",
    "\n",
    "        # if the number of spaces doesn't divide evenly the left most slots will\n",
    "        # be assigne dmore spaces than the slots on the right.\n",
    "        extra_left_spaces = extra_spaces - (extra_spaces_per_word * (len(line) - 1))\n",
    "        split_point = len(line) - extra_left_spaces\n",
    "        if extra_left_spaces:\n",
    "            split_point = extra_left_spaces + 1\n",
    "            return sep.join([\n",
    "                (sep + ' ').join(line[:split_point]),\n",
    "                sep.join(line[split_point:]),\n",
    "            ])\n",
    "        else:\n",
    "            return sep.join(line)\n",
    "    else:\n",
    "        # left justify when only one word is present\n",
    "        return line\n",
    "\n",
    "    \n",
    "def get_new_line_length(current_length, word):\n",
    "    # +1 if not first word since we will need at least one space.\n",
    "    return current_length + len(word) + (1 if current_length else 0)\n",
    "\n",
    "    \n",
    "def justify_words(words, length):\n",
    "    \n",
    "    line, lines, current_length = [], [], 0\n",
    "    \n",
    "    for word in words:\n",
    "        new_length = get_new_line_length(current_length, word)\n",
    "        if new_length > length:\n",
    "            line = justify_line(line, current_length, length)\n",
    "            lines.append(line)\n",
    "            line, current_length = [word], len(word)\n",
    "        else:\n",
    "            current_length = get_new_line_length(current_length, word)\n",
    "            line.append(word)\n",
    "            \n",
    "    return lines + [line[0]]"
   ]
  },
  {
   "cell_type": "code",
   "execution_count": 138,
   "metadata": {
    "collapsed": false
   },
   "outputs": [
    {
     "name": "stdout",
     "output_type": "stream",
     "text": [
      "[\n",
      "    \"This    is    an\", \n",
      "    \"example  of text\", \n",
      "    \"justification.\"\n",
      "]\n",
      "[\n",
      "    \"Lorem  ipsum dolor sit amet, consectetur adipiscing elit, sed do eiusmod tempor\", \n",
      "    \"incididunt  ut  labore  et  dolore  magna aliqua. Ut enim ad minim veniam, quis\", \n",
      "    \"nostrud  exercitation  ullamco laboris nisi ut aliquip ex ea commodo consequat.\", \n",
      "    \"Duis aute irure dolor in reprehenderit in voluptate velit esse cillum dolore eu\", \n",
      "    \"fugiat  nulla pariatur. Excepteur sint occaecat cupidatat non proident, sunt in\", \n",
      "    \"culpa\"\n",
      "]\n"
     ]
    }
   ],
   "source": [
    "import json\n",
    "    \n",
    "result = justify_words([\"This\", \"is\", \"an\", \"example\", \"of\", \"text\", \"justification.\"], 16)  \n",
    "print json.dumps(result, indent=4)    \n",
    "\n",
    "text = \"Lorem ipsum dolor sit amet, consectetur adipiscing elit, sed do eiusmod tempor incididunt ut labore et dolore magna aliqua. Ut enim ad minim veniam, quis nostrud exercitation ullamco laboris nisi ut aliquip ex ea commodo consequat. Duis aute irure dolor in reprehenderit in voluptate velit esse cillum dolore eu fugiat nulla pariatur. Excepteur sint occaecat cupidatat non proident, sunt in culpa qui officia deserunt mollit anim id est laborum.\"\n",
    "result = justify_words(text.split(' '), 79)\n",
    "print json.dumps(result, indent=4)    "
   ]
  }
 ],
 "metadata": {
  "kernelspec": {
   "display_name": "Python 2",
   "language": "python",
   "name": "python2"
  },
  "language_info": {
   "codemirror_mode": {
    "name": "ipython",
    "version": 2
   },
   "file_extension": ".py",
   "mimetype": "text/x-python",
   "name": "python",
   "nbconvert_exporter": "python",
   "pygments_lexer": "ipython2",
   "version": "2.7.6"
  }
 },
 "nbformat": 4,
 "nbformat_minor": 0
}
