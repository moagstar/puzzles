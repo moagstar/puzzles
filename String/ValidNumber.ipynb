{
 "cells": [
  {
   "cell_type": "markdown",
   "metadata": {},
   "source": [
    "# Valid Number\n",
    "Check if a string is a valid number, for example:\n",
    "\n",
    "```python\n",
    "is_number(\"\") == False\n",
    "is_number(\"0\") == True\n",
    "is_number(\" 0.1\") == True\n",
    "is_number(\" 0.1\") == True\n",
    "is_number(\"abc\") == False\n",
    "is_number(\"4e10\") == True\n",
    "is_number(\"4.5e10\") == True\n",
    "is_number(\"-4\") == True\n",
    "is_number(\"+4\") == True\n",
    "```\n",
    "\n",
    "Although this can be easily achieved by trying to cast to float, in the spirit of the puzzle this solution tries to parse the string to check if it is a valid number. A number of test cases are provided, using the cast to float to retrieve the expected output.\n",
    "\n",
    "A number of assumptions are made to simplify the problem:\n",
    "\n",
    "* Numbers in scientific notation are allowed.\n",
    "* Only '.' as decimal point is accepted.\n",
    "* No thousands separators are allowed."
   ]
  },
  {
   "cell_type": "code",
   "execution_count": 70,
   "metadata": {
    "collapsed": false
   },
   "outputs": [
    {
     "name": "stdout",
     "output_type": "stream",
     "text": [
      "42 tests passed\n"
     ]
    }
   ],
   "source": [
    "def is_number(input_string):\n",
    "    \n",
    "    input_string = input_string.strip(' ')\n",
    "    \n",
    "    if input_string in ('.', ''):\n",
    "        return False\n",
    "    \n",
    "    input_string = input_string.lstrip('+-')\n",
    "    \n",
    "    last_is_digit = False\n",
    "    had_decimal_point = False\n",
    "    had_e = False\n",
    "    last = len(input_string) - 1\n",
    "    \n",
    "    for i, c in enumerate(input_string):\n",
    "    \n",
    "        # process allowed non digit characters\n",
    "    \n",
    "        if c == 'e':\n",
    "            # 'e' is only valid if it is not the last character\n",
    "            # there is only one occurence, and it must follow a digit\n",
    "            if i == last or had_e or not last_is_digit:\n",
    "                return False\n",
    "            had_e = True\n",
    "        \n",
    "        elif c == '.':\n",
    "            # decimal point is only valid if we didn't already have\n",
    "            # a scientific notation character, and it is the only\n",
    "            # decimal point\n",
    "            if had_decimal_point or had_e:\n",
    "                return False\n",
    "            had_decimal_point = True\n",
    "        \n",
    "        elif c in ('+', '-'):\n",
    "            # + / - is only valid when not the first character if\n",
    "            # it occurs as part of scientific notation.\n",
    "            if last_c != 'e':\n",
    "                return False \n",
    "        \n",
    "        elif not c.isdigit():\n",
    "            return False\n",
    "        \n",
    "        else:\n",
    "            last_is_digit = True\n",
    "            \n",
    "        last_c = c\n",
    "            \n",
    "    return True\n",
    "\n",
    "\n",
    "def is_number_using_float(input_string):\n",
    "    try:\n",
    "        float(input_string)\n",
    "    except ValueError:\n",
    "        return False\n",
    "    return True\n",
    "\n",
    "            \n",
    "test_cases = [\n",
    "    \"\", \"0\", \"0.1\", \" 0.1\", \"abc\", \"4e10\", \"4.5e10\", \"4.5e10e10\",\n",
    "    \"-4\", \"+4\", \" \", \"...\", \".0.0.0.\", \"1.abc\", \"e\", \"10e\", \"1e2\",\n",
    "    \".31\", \" . \", \".\", \"x.y.z\", \"2.4.6\", \".1\", \"1.\", \"..1\", \"1..\",\n",
    "    \"6e6.6\", \"0042032e+6\", \"0042032e6+6\", \"+.1\", \"-1.\", \"..1\", \"1..\", \n",
    "    \"1+\", \"1-\", \"1 2 3 4 \", \"1.2 3\", \".1.2.3.\", \"_123\", \" e \", \".e\",\n",
    "    \"1,345,344.00\"\n",
    "]\n",
    "\n",
    "\n",
    "for test_case in test_cases:\n",
    "    actual = is_number(test_case)\n",
    "    expected = is_number_using_float(test_case)\n",
    "    if actual != expected:\n",
    "        assert False, ('is_number(\"' + test_case + '\") == ' + \n",
    "                       str(actual) + ' != ' + str(expected))\n",
    "        \n",
    "print str(len(test_cases)) + ' tests passed'\n"
   ]
  }
 ],
 "metadata": {
  "kernelspec": {
   "display_name": "Python 2",
   "language": "python",
   "name": "python2"
  },
  "language_info": {
   "codemirror_mode": {
    "name": "ipython",
    "version": 2
   },
   "file_extension": ".py",
   "mimetype": "text/x-python",
   "name": "python",
   "nbconvert_exporter": "python",
   "pygments_lexer": "ipython2",
   "version": "2.7.6"
  }
 },
 "nbformat": 4,
 "nbformat_minor": 0
}
