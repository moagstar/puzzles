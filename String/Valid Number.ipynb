{
 "cells": [
  {
   "cell_type": "markdown",
   "metadata": {},
   "source": [
    "# Valid Number"
   ]
  },
  {
   "cell_type": "code",
   "execution_count": 1,
   "metadata": {
    "collapsed": false
   },
   "outputs": [
    {
     "data": {
      "text/html": [
       "<a href=\"https://leetcode.com/problems/valid-number\">Source : https://leetcode.com/problems/valid-number</a><div class=\"question-content\">\n",
       "<p></p><p>Validate if a given string is numeric.</p>\n",
       "<p>\r\n",
       "Some examples:<br/>\n",
       "<code>\"0\"</code> =&gt; <code>true</code><br/>\n",
       "<code>\"   0.1  \"</code> =&gt; <code>true</code><br/>\n",
       "<code>\"abc\"</code> =&gt; <code>false</code><br/>\n",
       "<code>\"1 a\"</code> =&gt; <code>false</code><br/>\n",
       "<code>\"2e10\"</code> =&gt; <code>true</code><br/>\n",
       "</p>\n",
       "<p><b>Note:</b> It is intended for the problem statement to be ambiguous. You should gather all requirements up front before implementing one.\r\n",
       "</p>\n",
       "<p>\n",
       "<b><font color=\"red\">Update (2015-02-10):</font></b><br/>\r\n",
       "The signature of the <code>C++</code> function had been updated. If you still see your function signature accepts a <code>const char *</code> argument, please click the reload button <span class=\"glyphicon glyphicon-refresh\"></span> to reset your code definition.\r\n",
       "</p>\n",
       "<div>\n",
       "<p><a href=\"/subscribe/\">Subscribe</a> to see which companies asked this question</p>\n",
       "</div>\n",
       "<div>\n",
       "<div class=\"btn btn-xs btn-warning\" id=\"tags\">Show Tags</div>\n",
       "<span class=\"hidebutton\">\n",
       "<a class=\"btn btn-xs btn-primary\" href=\"/tag/math/\">Math</a>\n",
       "<a class=\"btn btn-xs btn-primary\" href=\"/tag/string/\">String</a>\n",
       "</span>\n",
       "</div>\n",
       "<div>\n",
       "<div class=\"btn btn-xs btn-warning\" id=\"similar\">Show Similar Problems</div>\n",
       "<span class=\"hidebutton\">\n",
       "<a class=\"btn btn-xs btn-primary\" href=\"/problems/string-to-integer-atoi/\"> (E) String to Integer (atoi)</a>\n",
       "</span>\n",
       "</div>\n",
       "</div>"
      ],
      "text/plain": [
       "<IPython.core.display.HTML object>"
      ]
     },
     "metadata": {},
     "output_type": "display_data"
    }
   ],
   "source": [
    "import sys; sys.path.append('../..')\n",
    "from puzzles import leet_puzzle\n",
    "leet_puzzle('valid-number')"
   ]
  },
  {
   "cell_type": "code",
   "execution_count": 2,
   "metadata": {
    "collapsed": false
   },
   "outputs": [
    {
     "name": "stdout",
     "output_type": "stream",
     "text": [
      "42 tests passed\n"
     ]
    }
   ],
   "source": [
    "def is_number(input_string):\n",
    "    \"\"\"\n",
    "    Determine if the input_string is a valid number or not, for example:\n",
    "    \n",
    "    >>> is_number(\"0.1\")\n",
    "    True\n",
    "    >>> is_number(\"abc\")\n",
    "    False\n",
    "\n",
    "    - Numbers in scientific notation are allowed.\n",
    "    - Only '.' as decimal point is accepted.\n",
    "    - No thousands separators are allowed.\n",
    "    \n",
    "    :param input_string: The input string to check.\n",
    "    \n",
    "    :return: True if input_string is a valid number, otherwise False.\n",
    "    \"\"\"\n",
    "    input_string = input_string.strip(' ')\n",
    "    \n",
    "    if input_string in ('.', ''):\n",
    "        return False\n",
    "    \n",
    "    input_string = input_string.lstrip('+-')\n",
    "    \n",
    "    last_is_digit = False\n",
    "    had_decimal_point = False\n",
    "    had_e = False\n",
    "    last = len(input_string) - 1\n",
    "    \n",
    "    for i, c in enumerate(input_string):\n",
    "    \n",
    "        # process allowed non digit characters\n",
    "    \n",
    "        if c == 'e':\n",
    "            # 'e' is only valid if it is not the last character\n",
    "            # there is only one occurence, and it must follow a digit\n",
    "            if i == last or had_e or not last_is_digit:\n",
    "                return False\n",
    "            had_e = True\n",
    "        \n",
    "        elif c == '.':\n",
    "            # decimal point is only valid if we didn't already have\n",
    "            # a scientific notation character, and it is the only\n",
    "            # decimal point\n",
    "            if had_decimal_point or had_e:\n",
    "                return False\n",
    "            had_decimal_point = True\n",
    "        \n",
    "        elif c in ('+', '-'):\n",
    "            # + / - is only valid when not the first character if\n",
    "            # it occurs as part of scientific notation.\n",
    "            if last_c != 'e':\n",
    "                return False \n",
    "        \n",
    "        elif not c.isdigit():\n",
    "            return False\n",
    "        \n",
    "        else:\n",
    "            last_is_digit = True\n",
    "            \n",
    "        last_c = c\n",
    "            \n",
    "    return True\n",
    "\n",
    "\n",
    "def is_number_using_float(input_string):\n",
    "    try:\n",
    "        float(input_string)\n",
    "    except ValueError:\n",
    "        return False\n",
    "    return True\n",
    "\n",
    "            \n",
    "test_cases = [\n",
    "    \"\", \"0\", \"0.1\", \" 0.1\", \"abc\", \"4e10\", \"4.5e10\", \"4.5e10e10\",\n",
    "    \"-4\", \"+4\", \" \", \"...\", \".0.0.0.\", \"1.abc\", \"e\", \"10e\", \"1e2\",\n",
    "    \".31\", \" . \", \".\", \"x.y.z\", \"2.4.6\", \".1\", \"1.\", \"..1\", \"1..\",\n",
    "    \"6e6.6\", \"0042032e+6\", \"0042032e6+6\", \"+.1\", \"-1.\", \"..1\", \"1..\", \n",
    "    \"1+\", \"1-\", \"1 2 3 4 \", \"1.2 3\", \".1.2.3.\", \"_123\", \" e \", \".e\",\n",
    "    \"1,345,344.00\"\n",
    "]\n",
    "\n",
    "\n",
    "for test_case in test_cases:\n",
    "    actual = is_number(test_case)\n",
    "    expected = is_number_using_float(test_case)\n",
    "    if actual != expected:\n",
    "        assert False, ('is_number(\"' + test_case + '\") == ' + \n",
    "                       str(actual) + ' != ' + str(expected))\n",
    "        \n",
    "print str(len(test_cases)) + ' tests passed'\n"
   ]
  },
  {
   "cell_type": "code",
   "execution_count": 74,
   "metadata": {
    "collapsed": false
   },
   "outputs": [
    {
     "name": "stdout",
     "output_type": "stream",
     "text": [
      "100000 loops, best of 3: 3.62 µs per loop\n"
     ]
    }
   ],
   "source": [
    "%%timeit\n",
    "is_number(\"0.34834\")"
   ]
  },
  {
   "cell_type": "code",
   "execution_count": 78,
   "metadata": {
    "collapsed": false
   },
   "outputs": [
    {
     "name": "stdout",
     "output_type": "stream",
     "text": [
      "The slowest run took 14.05 times longer than the fastest. This could mean that an intermediate result is being cached \n",
      "1000000 loops, best of 3: 356 ns per loop\n"
     ]
    }
   ],
   "source": [
    "%%timeit\n",
    "is_number_using_float(\"0.34834\")"
   ]
  }
 ],
 "metadata": {
  "kernelspec": {
   "display_name": "Python 2",
   "language": "python",
   "name": "python2"
  },
  "language_info": {
   "codemirror_mode": {
    "name": "ipython",
    "version": 2
   },
   "file_extension": ".py",
   "mimetype": "text/x-python",
   "name": "python",
   "nbconvert_exporter": "python",
   "pygments_lexer": "ipython2",
   "version": "2.7.6"
  }
 },
 "nbformat": 4,
 "nbformat_minor": 0
}
