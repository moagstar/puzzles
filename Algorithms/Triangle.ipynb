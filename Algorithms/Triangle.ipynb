{
 "cells": [
  {
   "cell_type": "markdown",
   "metadata": {},
   "source": [
    "# Triangle"
   ]
  },
  {
   "cell_type": "code",
   "execution_count": 1,
   "metadata": {
    "collapsed": false
   },
   "outputs": [
    {
     "data": {
      "text/html": [
       "<div class=\"question-content\">\n",
       "<p></p><p>Given a triangle, find the minimum path sum from top to bottom. Each step you may move to adjacent numbers on the row below.</p>\n",
       "<p>\r\n",
       "For example, given the following triangle<br/>\n",
       "</p><pre>\r\n",
       "[\r\n",
       "     [<font color=\"red\">2</font>],\r\n",
       "    [<font color=\"red\">3</font>,4],\r\n",
       "   [6,<font color=\"red\">5</font>,7],\r\n",
       "  [4,<font color=\"red\">1</font>,8,3]\r\n",
       "]\r\n",
       "</pre>\n",
       "<p>\r\n",
       "The minimum path sum from top to bottom is <code>11</code> (i.e., <font color=\"red\">2</font> + <font color=\"red\">3</font> + <font color=\"red\">5</font> + <font color=\"red\">1</font> = 11).\r\n",
       "</p>\n",
       "<p>\n",
       "<b>Note:</b><br/>\r\n",
       "Bonus point if you are able to do this using only <i>O</i>(<i>n</i>) extra space, where <i>n</i> is the total number of rows in the triangle.\r\n",
       "</p>\n",
       "<div>\n",
       "<p><a href=\"/subscribe/\">Subscribe</a> to see which companies asked this question</p>\n",
       "</div>\n",
       "<div>\n",
       "<div class=\"btn btn-xs btn-warning\" id=\"tags\">Show Tags</div>\n",
       "<span class=\"hidebutton\">\n",
       "<a class=\"btn btn-xs btn-primary\" href=\"/tag/array/\">Array</a>\n",
       "<a class=\"btn btn-xs btn-primary\" href=\"/tag/dynamic-programming/\">Dynamic Programming</a>\n",
       "</span>\n",
       "</div>\n",
       "</div>"
      ],
      "text/plain": [
       "<IPython.core.display.HTML object>"
      ]
     },
     "metadata": {},
     "output_type": "display_data"
    }
   ],
   "source": [
    "import sys; sys.path.append('../..')\n",
    "from puzzles import leet_puzzle\n",
    "leet_puzzle('triangle')"
   ]
  },
  {
   "cell_type": "code",
   "execution_count": 7,
   "metadata": {
    "collapsed": false
   },
   "outputs": [
    {
     "name": "stdout",
     "output_type": "stream",
     "text": [
      " [2, 3, 5, 1] 11\n"
     ]
    }
   ],
   "source": [
    "import sys\n",
    "\n",
    "\n",
    "input_triangle = [\n",
    "     [2],\n",
    "    [3,4],\n",
    "   [6,5,7],\n",
    "  [4,1,8,3],\n",
    "]\n",
    "\n",
    "\n",
    "def minimum_path(triangle, shortest_path=None, path=None, row=0, col=0):\n",
    "    \n",
    "    path = path or []\n",
    "    shortest_path = shortest_path or [sys.maxint]\n",
    "        \n",
    "    if row < len(triangle) - 1:\n",
    "        path.append(triangle[row][col])\n",
    "        shortest_path = minimum_path(triangle, shortest_path, path, row + 1, col)\n",
    "        shortest_path = minimum_path(triangle, shortest_path, path, row + 1, col + 1)\n",
    "        path.pop()\n",
    "\n",
    "    else:\n",
    "        newpath = path + [triangle[row][col]]\n",
    "        if sum(newpath) < sum(shortest_path):\n",
    "            shortest_path = newpath\n",
    "\n",
    "    return shortest_path\n",
    "\n",
    "            \n",
    "p = minimum_path(input_triangle)\n",
    "s = sum(p)\n",
    "print p, s"
   ]
  },
  {
   "cell_type": "code",
   "execution_count": 5,
   "metadata": {
    "collapsed": false
   },
   "outputs": [
    {
     "name": "stdout",
     "output_type": "stream",
     "text": [
      "100000 loops, best of 3: 14.4 µs per loop\n"
     ]
    }
   ],
   "source": [
    "%%timeit\n",
    "minimum_path(input_triangle)"
   ]
  }
 ],
 "metadata": {
  "kernelspec": {
   "display_name": "Python 2",
   "language": "python",
   "name": "python2"
  },
  "language_info": {
   "codemirror_mode": {
    "name": "ipython",
    "version": 2
   },
   "file_extension": ".py",
   "mimetype": "text/x-python",
   "name": "python",
   "nbconvert_exporter": "python",
   "pygments_lexer": "ipython2",
   "version": "2.7.6"
  }
 },
 "nbformat": 4,
 "nbformat_minor": 0
}
