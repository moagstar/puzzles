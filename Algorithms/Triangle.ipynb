{
 "cells": [
  {
   "cell_type": "code",
   "execution_count": 60,
   "metadata": {
    "collapsed": false
   },
   "outputs": [
    {
     "name": "stdout",
     "output_type": "stream",
     "text": [
      "[2, 3, 5, 1]\n"
     ]
    }
   ],
   "source": [
    "import sys\n",
    "\n",
    "\n",
    "input_triangle = [\n",
    "     [2],\n",
    "    [3,4],\n",
    "   [6,5,7],\n",
    "  [4,1,8,3],\n",
    "]\n",
    "\n",
    "\n",
    "def minimum_path_sum(triangle, shortest_path=None, path=None, row=0, col=0):\n",
    "    \n",
    "    path = path or []\n",
    "    shortest_path = shortest_path or [sys.maxint]\n",
    "        \n",
    "    if row < len(triangle) - 1:\n",
    "        path.append(triangle[row][col])\n",
    "        shortest_path = minimum_path_sum(triangle, shortest_path, path, row + 1, col)\n",
    "        shortest_path = minimum_path_sum(triangle, shortest_path, path, row + 1, col + 1)\n",
    "        path.pop()\n",
    "\n",
    "    else:\n",
    "        newpath = path + [triangle[row][col]]\n",
    "        if sum(newpath) < sum(shortest_path):\n",
    "            shortest_path = newpath\n",
    "\n",
    "    return shortest_path\n",
    "\n",
    "            \n",
    "print minimum_path_sum(input_triangle)\n",
    "\n"
   ]
  }
 ],
 "metadata": {
  "kernelspec": {
   "display_name": "Python 2",
   "language": "python",
   "name": "python2"
  },
  "language_info": {
   "codemirror_mode": {
    "name": "ipython",
    "version": 2
   },
   "file_extension": ".py",
   "mimetype": "text/x-python",
   "name": "python",
   "nbconvert_exporter": "python",
   "pygments_lexer": "ipython2",
   "version": "2.7.6"
  }
 },
 "nbformat": 4,
 "nbformat_minor": 0
}
