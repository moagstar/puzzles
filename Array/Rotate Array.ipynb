{
 "cells": [
  {
   "cell_type": "markdown",
   "metadata": {},
   "source": [
    "# Rotate Array\n",
    "\n",
    "Given an array of size n, rotate the elements k times. \n",
    "For example, with `n=7` and `k=4`, the array:\n",
    "\n",
    "`[0, 1, 2, 3, 4, 5, 6]` \n",
    "\n",
    "is rotated to:\n",
    "\n",
    "`[4, 5, 6, 0, 1, 2, 3]`"
   ]
  },
  {
   "cell_type": "code",
   "execution_count": 204,
   "metadata": {
    "collapsed": true
   },
   "outputs": [],
   "source": [
    "n, k = 7, 4\n",
    "example_array = list(range(n))\n",
    "example_array"
   ]
  },
  {
   "cell_type": "markdown",
   "metadata": {},
   "source": [
    "## Simple Solution\n",
    "\n",
    "The simplest solution splits the array at the point to rotate, and constructs a new array using the two parts."
   ]
  },
  {
   "cell_type": "code",
   "execution_count": 205,
   "metadata": {
    "collapsed": false
   },
   "outputs": [
    {
     "data": {
      "text/plain": [
       "[4, 5, 6, 0, 1, 2, 3]"
      ]
     },
     "execution_count": 205,
     "metadata": {},
     "output_type": "execute_result"
    }
   ],
   "source": [
    "def rotate_simple(input_array, order):\n",
    "    order %= len(input_array)\n",
    "    return input_array[order:] + input_array[:order]\n",
    "\n",
    "rotate_simple(example_array, k)"
   ]
  },
  {
   "cell_type": "code",
   "execution_count": 206,
   "metadata": {
    "collapsed": false
   },
   "outputs": [
    {
     "name": "stdout",
     "output_type": "stream",
     "text": [
      "The slowest run took 5.20 times longer than the fastest. This could mean that an intermediate result is being cached \n",
      "1000000 loops, best of 3: 493 ns per loop\n"
     ]
    }
   ],
   "source": [
    "%%timeit\n",
    "rotate(example_array, k)"
   ]
  },
  {
   "cell_type": "markdown",
   "metadata": {},
   "source": [
    "This solution has both time and space complexity of O(n)."
   ]
  },
  {
   "cell_type": "markdown",
   "metadata": {},
   "source": [
    "## Bubble Rotate\n",
    "However if we want to rotate a large array in place (without creating a new array), the solution above is inefficient. The time complexity is O(n), dependant only on the size of the input array, but the space complexity is also O(n) since we need to create a new array with the rotated elements. By applying a similar algorithm to bubble sort we can perform the rotation in place."
   ]
  },
  {
   "cell_type": "code",
   "execution_count": 207,
   "metadata": {
    "collapsed": false
   },
   "outputs": [
    {
     "data": {
      "text/plain": [
       "[4, 5, 0, 1, 2, 3, 6]"
      ]
     },
     "execution_count": 207,
     "metadata": {},
     "output_type": "execute_result"
    }
   ],
   "source": [
    "def rotate_bubble_inplace(input_array, order):\n",
    "    order %= len(input_array)\n",
    "    for i in range(order):\n",
    "        for j in range(len(input_array)):\n",
    "            input_array[j], input_array[j - 1] = input_array[j - 1], input_array[j]\n",
    "    return input_array\n",
    "            \n",
    "example_array2 = list(example_array)\n",
    "rotate_bubble_inplace(example_array2, k)"
   ]
  },
  {
   "cell_type": "code",
   "execution_count": 208,
   "metadata": {
    "collapsed": false
   },
   "outputs": [
    {
     "name": "stdout",
     "output_type": "stream",
     "text": [
      "100000 loops, best of 3: 5.25 µs per loop\n"
     ]
    }
   ],
   "source": [
    "%%timeit\n",
    "rotate_bubble_inplace(example_array, k)"
   ]
  },
  {
   "cell_type": "markdown",
   "metadata": {},
   "source": [
    "However, although the space complexity is now O(1), the time complexity is O(n * k). It would be good to find a solution that has O(1) space complexity and O(n) time complexity."
   ]
  },
  {
   "cell_type": "markdown",
   "metadata": {},
   "source": [
    "## Reverse Rotate\n",
    "Another way of rotating the array is to split the array into two sub arrays at the point of rotation. Each subarray is reversed, before rotating the entire array. This solution achieves O(1) space complexity and O(n)."
   ]
  },
  {
   "cell_type": "code",
   "execution_count": 209,
   "metadata": {
    "collapsed": false
   },
   "outputs": [
    {
     "data": {
      "text/plain": [
       "[4, 5, 6, 0, 1, 2, 3]"
      ]
     },
     "execution_count": 209,
     "metadata": {},
     "output_type": "execute_result"
    }
   ],
   "source": [
    "def rotate_reverse_inplace(input_array, order):\n",
    "    length = len(input_array)\n",
    "    order = -order % length\n",
    "    split_location = length - order\n",
    "    input_array[:split_location] = reversed(input_array[:split_location])\n",
    "    input_array[split_location:] = reversed(input_array[split_location:])\n",
    "    input_array.reverse()\n",
    "    return input_array\n",
    "\n",
    "example_array2 = list(example_array)\n",
    "rotate_reverse_inplace(example_array2, k)"
   ]
  },
  {
   "cell_type": "code",
   "execution_count": 210,
   "metadata": {
    "collapsed": false
   },
   "outputs": [
    {
     "name": "stdout",
     "output_type": "stream",
     "text": [
      "The slowest run took 4.23 times longer than the fastest. This could mean that an intermediate result is being cached \n",
      "1000000 loops, best of 3: 1.89 µs per loop\n"
     ]
    }
   ],
   "source": [
    "%%timeit\n",
    "rotate_reverse_inplace(example_array, k)"
   ]
  }
 ],
 "metadata": {
  "kernelspec": {
   "display_name": "Python 2",
   "language": "python",
   "name": "python2"
  },
  "language_info": {
   "codemirror_mode": {
    "name": "ipython",
    "version": 2
   },
   "file_extension": ".py",
   "mimetype": "text/x-python",
   "name": "python",
   "nbconvert_exporter": "python",
   "pygments_lexer": "ipython2",
   "version": "2.7.6"
  }
 },
 "nbformat": 4,
 "nbformat_minor": 0
}
