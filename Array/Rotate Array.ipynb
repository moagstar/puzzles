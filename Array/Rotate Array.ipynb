{
 "cells": [
  {
   "cell_type": "markdown",
   "metadata": {},
   "source": [
    "# Rotate Array"
   ]
  },
  {
   "cell_type": "code",
   "execution_count": 1,
   "metadata": {
    "collapsed": false
   },
   "outputs": [
    {
     "data": {
      "text/html": [
       "<a href=\"https://leetcode.com/problems/rotate-array\">Source : https://leetcode.com/problems/rotate-array</a><div class=\"question-content\">\n",
       "<p></p><p>Rotate an array of <i>n</i> elements to the right by <i>k</i> steps.</p>\n",
       "<p>For example, with <i>n</i> = 7 and <i>k</i> = 3, the array <code>[1,2,3,4,5,6,7]</code> is rotated to <code>[5,6,7,1,2,3,4]</code>. </p>\n",
       "<p><b>Note:</b><br/>\r\n",
       "Try to come up as many solutions as you can, there are at least 3 different ways to solve this problem.\r\n",
       "</p>\n",
       "<p class=\"showspoilers\"><a href=\"https://leetcode.com#\" onclick=\"showSpoilers(this); return false;\">[show hint]</a></p>\n",
       "<div class=\"spoilers\"><b>Hint:</b><br/>\r\n",
       "Could you do it in-place with O(1) extra space?\r\n",
       "</div>\n",
       "<p>Related problem: <a href=\"https://leetcode.com/problems/reverse-words-in-a-string-ii/\">Reverse Words in a String II</a></p>\n",
       "<p><b>Credits:</b><br/>Special thanks to <a href=\"https://leetcode.comhttps://oj.leetcode.com/discuss/user/Freezen\">@Freezen</a> for adding this problem and creating all test cases.</p>\n",
       "<div>\n",
       "<p></p>\n",
       "</div>\n",
       "<div>\n",
       "\n",
       "<span class=\"hidebutton\">\n",
       "<a class=\"btn btn-xs btn-primary\" href=\"https://leetcode.com/tag/array/\">Array</a>\n",
       "</span>\n",
       "</div>\n",
       "<div>\n",
       "\n",
       "<span class=\"hidebutton\">\n",
       "<a class=\"btn btn-xs btn-primary\" href=\"https://leetcode.com/problems/rotate-list/\"> (M) Rotate List</a>\n",
       "<a class=\"btn btn-xs btn-primary\" href=\"https://leetcode.com/problems/reverse-words-in-a-string-ii/\"> (M) Reverse Words in a String II</a>\n",
       "</span>\n",
       "</div>\n",
       "</div>"
      ],
      "text/plain": [
       "<IPython.core.display.HTML object>"
      ]
     },
     "metadata": {},
     "output_type": "display_data"
    }
   ],
   "source": [
    "import sys; sys.path.append('../..')\n",
    "from puzzles import leet_puzzle\n",
    "leet_puzzle('rotate-array')"
   ]
  },
  {
   "cell_type": "code",
   "execution_count": 4,
   "metadata": {
    "collapsed": false
   },
   "outputs": [
    {
     "data": {
      "text/plain": [
       "[0, 1, 2, 3, 4, 5, 6]"
      ]
     },
     "execution_count": 4,
     "metadata": {},
     "output_type": "execute_result"
    }
   ],
   "source": [
    "n, k = 7, 4\n",
    "example_array = list(range(n))\n",
    "example_array"
   ]
  },
  {
   "cell_type": "markdown",
   "metadata": {},
   "source": [
    "## Simple Solution\n",
    "\n",
    "The simplest solution splits the array at the point to rotate, and constructs a new array using the two parts."
   ]
  },
  {
   "cell_type": "code",
   "execution_count": 5,
   "metadata": {
    "collapsed": false
   },
   "outputs": [
    {
     "data": {
      "text/plain": [
       "[4, 5, 6, 0, 1, 2, 3]"
      ]
     },
     "execution_count": 5,
     "metadata": {},
     "output_type": "execute_result"
    }
   ],
   "source": [
    "def rotate_simple(input_array, order):\n",
    "    order %= len(input_array)\n",
    "    return input_array[order:] + input_array[:order]\n",
    "\n",
    "rotate_simple(example_array, k)"
   ]
  },
  {
   "cell_type": "code",
   "execution_count": 9,
   "metadata": {
    "collapsed": false
   },
   "outputs": [
    {
     "name": "stdout",
     "output_type": "stream",
     "text": [
      "The slowest run took 6.15 times longer than the fastest. This could mean that an intermediate result is being cached \n",
      "1000000 loops, best of 3: 621 ns per loop\n"
     ]
    }
   ],
   "source": [
    "%%timeit\n",
    "rotate_simple(example_array, k)"
   ]
  },
  {
   "cell_type": "markdown",
   "metadata": {},
   "source": [
    "This solution has both time and space complexity of O(n)."
   ]
  },
  {
   "cell_type": "markdown",
   "metadata": {},
   "source": [
    "## Bubble Rotate\n",
    "However if we want to rotate a large array in place (without creating a new array), the solution above is inefficient. The time complexity is O(n), dependant only on the size of the input array, but the space complexity is also O(n) since we need to create a new array with the rotated elements. By applying a similar algorithm to bubble sort we can perform the rotation in place."
   ]
  },
  {
   "cell_type": "code",
   "execution_count": 10,
   "metadata": {
    "collapsed": false
   },
   "outputs": [
    {
     "data": {
      "text/plain": [
       "[4, 5, 0, 1, 2, 3, 6]"
      ]
     },
     "execution_count": 10,
     "metadata": {},
     "output_type": "execute_result"
    }
   ],
   "source": [
    "def rotate_bubble_inplace(input_array, order):\n",
    "    order %= len(input_array)\n",
    "    for i in range(order):\n",
    "        for j in range(len(input_array)):\n",
    "            input_array[j], input_array[j - 1] = input_array[j - 1], input_array[j]\n",
    "    return input_array\n",
    "            \n",
    "example_array2 = list(example_array)\n",
    "rotate_bubble_inplace(example_array2, k)"
   ]
  },
  {
   "cell_type": "code",
   "execution_count": 11,
   "metadata": {
    "collapsed": false
   },
   "outputs": [
    {
     "name": "stdout",
     "output_type": "stream",
     "text": [
      "100000 loops, best of 3: 8.46 µs per loop\n"
     ]
    }
   ],
   "source": [
    "%%timeit\n",
    "rotate_bubble_inplace(example_array, k)"
   ]
  },
  {
   "cell_type": "markdown",
   "metadata": {},
   "source": [
    "However, although the space complexity is now O(1), the time complexity is O(n * k). It would be good to find a solution that has O(1) space complexity and O(n) time complexity."
   ]
  },
  {
   "cell_type": "markdown",
   "metadata": {},
   "source": [
    "## Reverse Rotate\n",
    "Another way of rotating the array is to split the array into two sub arrays at the point of rotation. Each subarray is reversed, before rotating the entire array. This solution achieves O(1) space complexity and O(n)."
   ]
  },
  {
   "cell_type": "code",
   "execution_count": 12,
   "metadata": {
    "collapsed": false
   },
   "outputs": [
    {
     "data": {
      "text/plain": [
       "[4, 5, 6, 0, 1, 2, 3]"
      ]
     },
     "execution_count": 12,
     "metadata": {},
     "output_type": "execute_result"
    }
   ],
   "source": [
    "def rotate_reverse_inplace(input_array, order):\n",
    "    length = len(input_array)\n",
    "    order = -order % length\n",
    "    split_location = length - order\n",
    "    input_array[:split_location] = reversed(input_array[:split_location])\n",
    "    input_array[split_location:] = reversed(input_array[split_location:])\n",
    "    input_array.reverse()\n",
    "    return input_array\n",
    "\n",
    "example_array2 = list(example_array)\n",
    "rotate_reverse_inplace(example_array2, k)"
   ]
  },
  {
   "cell_type": "code",
   "execution_count": 13,
   "metadata": {
    "collapsed": false
   },
   "outputs": [
    {
     "name": "stdout",
     "output_type": "stream",
     "text": [
      "The slowest run took 5.80 times longer than the fastest. This could mean that an intermediate result is being cached \n",
      "100000 loops, best of 3: 2.1 µs per loop\n"
     ]
    }
   ],
   "source": [
    "%%timeit\n",
    "rotate_reverse_inplace(example_array, k)"
   ]
  }
 ],
 "metadata": {
  "kernelspec": {
   "display_name": "Python 2",
   "language": "python",
   "name": "python2"
  },
  "language_info": {
   "codemirror_mode": {
    "name": "ipython",
    "version": 2
   },
   "file_extension": ".py",
   "mimetype": "text/x-python",
   "name": "python",
   "nbconvert_exporter": "python",
   "pygments_lexer": "ipython2",
   "version": "2.7.6"
  }
 },
 "nbformat": 4,
 "nbformat_minor": 0
}
