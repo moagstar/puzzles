{
 "cells": [
  {
   "cell_type": "markdown",
   "metadata": {},
   "source": [
    "# Pascal's Triangle"
   ]
  },
  {
   "cell_type": "code",
   "execution_count": 1,
   "metadata": {
    "collapsed": false
   },
   "outputs": [
    {
     "data": {
      "text/html": [
       "<a href=\"https://leetcode.com/problems/pascals-triangle\">Source : https://leetcode.com/problems/pascals-triangle</a><div class=\"question-content\">\n",
       "<p></p><p>Given <i>numRows</i>, generate the first <i>numRows</i> of Pascal's triangle.</p>\n",
       "<p>\r\n",
       "For example, given <i>numRows</i> = 5,<br/>\r\n",
       "Return\r\n",
       "</p><pre>\r\n",
       "[\r\n",
       "     [1],\r\n",
       "    [1,1],\r\n",
       "   [1,2,1],\r\n",
       "  [1,3,3,1],\r\n",
       " [1,4,6,4,1]\r\n",
       "]\r\n",
       "</pre>\n",
       "<div>\n",
       "<p></p>\n",
       "</div>\n",
       "<div>\n",
       "\n",
       "<span class=\"hidebutton\">\n",
       "<a class=\"btn btn-xs btn-primary\" href=\"https://leetcode.com/tag/array/\">Array</a>\n",
       "</span>\n",
       "</div>\n",
       "<div>\n",
       "\n",
       "<span class=\"hidebutton\">\n",
       "<a class=\"btn btn-xs btn-primary\" href=\"https://leetcode.com/problems/pascals-triangle-ii/\"> (E) Pascal's Triangle II</a>\n",
       "</span>\n",
       "</div>\n",
       "</div>"
      ],
      "text/plain": [
       "<IPython.core.display.HTML object>"
      ]
     },
     "metadata": {},
     "output_type": "display_data"
    }
   ],
   "source": [
    "import sys; sys.path.append('../..')\n",
    "from puzzles import leet_puzzle\n",
    "leet_puzzle('pascals-triangle')"
   ]
  },
  {
   "cell_type": "markdown",
   "metadata": {},
   "source": [
    "## Naive Solution\n",
    "Given a piece of paper and 10 minutes this was the naive solution I could come up with, however it is horribly inefficient calculating all previous rows in order to get the current row. The time complexity is O((n² + n)/2) and space complexity is O(2n). However it does give the expected output."
   ]
  },
  {
   "cell_type": "code",
   "execution_count": 8,
   "metadata": {
    "collapsed": false
   },
   "outputs": [
    {
     "name": "stdout",
     "output_type": "stream",
     "text": [
      "[1]\n",
      "[1, 1]\n",
      "[1, 2, 1]\n",
      "[1, 3, 3, 1]\n",
      "[1, 4, 6, 4, 1]\n",
      "[1, 5, 10, 10, 5, 1]\n",
      "[1, 6, 15, 20, 15, 6, 1]\n",
      "[1, 7, 21, 35, 35, 21, 7, 1]\n",
      "[1, 8, 28, 56, 70, 56, 28, 8, 1]\n"
     ]
    }
   ],
   "source": [
    "def pascals_triangle(k):\n",
    "    prev_row = None\n",
    "    for r in xrange(k+1):\n",
    "        row = [None] * r\n",
    "        for c in xrange(r):\n",
    "            if c == 0 or c == r-1:\n",
    "                row[c] = 1\n",
    "            else:\n",
    "                row[c] = prev_row[c] + prev_row[c-1]\n",
    "        prev_row = row\n",
    "    return row\n",
    "\n",
    "\n",
    "for k in xrange(1, 10):\n",
    "    print pascals_triangle(k)"
   ]
  },
  {
   "cell_type": "code",
   "execution_count": 8,
   "metadata": {
    "collapsed": false
   },
   "outputs": [
    {
     "name": "stdout",
     "output_type": "stream",
     "text": [
      "1000 loops, best of 3: 224 µs per loop\n"
     ]
    }
   ],
   "source": [
    "%%timeit\n",
    "pascals_triangle(40)"
   ]
  },
  {
   "cell_type": "markdown",
   "metadata": {},
   "source": [
    "## Optimised Solution\n",
    "However it is possible to do this in O(n) space and O(n/2) time complexity:"
   ]
  },
  {
   "cell_type": "code",
   "execution_count": 16,
   "metadata": {
    "collapsed": false,
    "scrolled": true
   },
   "outputs": [
    {
     "name": "stdout",
     "output_type": "stream",
     "text": [
      "[1]\n",
      "[1, 1]\n",
      "[1, 2, 1]\n",
      "[1, 3, 3, 1]\n",
      "[1, 4, 6, 4, 1]\n",
      "[1, 5, 10, 10, 5, 1]\n",
      "[1, 6, 15, 20, 15, 6, 1]\n",
      "[1, 7, 21, 35, 35, 21, 7, 1]\n",
      "[1, 8, 28, 56, 70, 56, 28, 8, 1]\n"
     ]
    }
   ],
   "source": [
    "def pascals_triangle_2(k):\n",
    "    \n",
    "    k = k - 1\n",
    "    \n",
    "    row = [1]\n",
    "    \n",
    "    # only need to calculate half of the row, since the triangle is\n",
    "    # symmetric\n",
    "    for n in xrange(k / 2):\n",
    "        row.append(row[n] * (k - n) / (n + 1))\n",
    "        \n",
    "    # middle element is repeated only for odd values of k\n",
    "    r = list(reversed(row))\n",
    "    r = r[1:] if k % 2 == 0 else r\n",
    "    \n",
    "    return row + r\n",
    "\n",
    "\n",
    "for k in xrange(1, 10):\n",
    "    print pascals_triangle_2(k)"
   ]
  },
  {
   "cell_type": "code",
   "execution_count": 19,
   "metadata": {
    "collapsed": false
   },
   "outputs": [
    {
     "name": "stdout",
     "output_type": "stream",
     "text": [
      "100000 loops, best of 3: 5.94 µs per loop\n"
     ]
    }
   ],
   "source": [
    "%%timeit\n",
    "pascals_triangle_2(40)"
   ]
  },
  {
   "cell_type": "markdown",
   "metadata": {},
   "source": [
    "# Corner Cases\n",
    "There are a number of corner cases which should be considered, for example passing in a negative integer, or passing a string for example, but the typical corner case with pascals triangle is an integer overflow when dealing with large numbers. In python however integers have arbitrary size, and expand as required, for example:"
   ]
  },
  {
   "cell_type": "code",
   "execution_count": 25,
   "metadata": {
    "collapsed": false,
    "scrolled": false
   },
   "outputs": [
    {
     "data": {
      "text/plain": [
       "[1,\n",
       " 49,\n",
       " 1176,\n",
       " 18424,\n",
       " 211876,\n",
       " 1906884,\n",
       " 13983816,\n",
       " 85900584,\n",
       " 450978066L,\n",
       " 2054455634L,\n",
       " 8217822536L,\n",
       " 29135916264L,\n",
       " 92263734836L,\n",
       " 262596783764L,\n",
       " 675248872536L,\n",
       " 1575580702584L,\n",
       " 3348108992991L,\n",
       " 6499270398159L,\n",
       " 11554258485616L,\n",
       " 18851684897584L,\n",
       " 28277527346376L,\n",
       " 39049918716424L,\n",
       " 49699896548176L,\n",
       " 58343356817424L,\n",
       " 63205303218876L,\n",
       " 63205303218876L,\n",
       " 58343356817424L,\n",
       " 49699896548176L,\n",
       " 39049918716424L,\n",
       " 28277527346376L,\n",
       " 18851684897584L,\n",
       " 11554258485616L,\n",
       " 6499270398159L,\n",
       " 3348108992991L,\n",
       " 1575580702584L,\n",
       " 675248872536L,\n",
       " 262596783764L,\n",
       " 92263734836L,\n",
       " 29135916264L,\n",
       " 8217822536L,\n",
       " 2054455634L,\n",
       " 450978066L,\n",
       " 85900584,\n",
       " 13983816,\n",
       " 1906884,\n",
       " 211876,\n",
       " 18424,\n",
       " 1176,\n",
       " 49,\n",
       " 1]"
      ]
     },
     "execution_count": 25,
     "metadata": {},
     "output_type": "execute_result"
    }
   ],
   "source": [
    "pascals_triangle_2(50)"
   ]
  },
  {
   "cell_type": "markdown",
   "metadata": {},
   "source": [
    "With very large numbers in a python solution you will eventually run out of memory, for example:"
   ]
  },
  {
   "cell_type": "code",
   "execution_count": 18,
   "metadata": {
    "collapsed": false
   },
   "outputs": [
    {
     "ename": "MemoryError",
     "evalue": "",
     "output_type": "error",
     "traceback": [
      "\u001b[1;31m---------------------------------------------------------------------------\u001b[0m",
      "\u001b[1;31mMemoryError\u001b[0m                               Traceback (most recent call last)",
      "\u001b[1;32m<ipython-input-18-315cedc8d7b6>\u001b[0m in \u001b[0;36m<module>\u001b[1;34m()\u001b[0m\n\u001b[0;32m      1\u001b[0m \u001b[1;32mimport\u001b[0m \u001b[0msys\u001b[0m\u001b[1;33m\u001b[0m\u001b[0m\n\u001b[1;32m----> 2\u001b[1;33m \u001b[0mresult2\u001b[0m \u001b[1;33m=\u001b[0m \u001b[0mpascals_triangle_2\u001b[0m\u001b[1;33m(\u001b[0m\u001b[0msys\u001b[0m\u001b[1;33m.\u001b[0m\u001b[0mmaxint\u001b[0m \u001b[1;33m-\u001b[0m \u001b[1;36m1\u001b[0m\u001b[1;33m)\u001b[0m\u001b[1;33m\u001b[0m\u001b[0m\n\u001b[0m",
      "\u001b[1;32m<ipython-input-16-57c82f468b3a>\u001b[0m in \u001b[0;36mpascals_triangle_2\u001b[1;34m(k)\u001b[0m\n\u001b[0;32m      8\u001b[0m     \u001b[1;31m# symmetric\u001b[0m\u001b[1;33m\u001b[0m\u001b[1;33m\u001b[0m\u001b[0m\n\u001b[0;32m      9\u001b[0m     \u001b[1;32mfor\u001b[0m \u001b[0mn\u001b[0m \u001b[1;32min\u001b[0m \u001b[0mxrange\u001b[0m\u001b[1;33m(\u001b[0m\u001b[0mk\u001b[0m \u001b[1;33m/\u001b[0m \u001b[1;36m2\u001b[0m\u001b[1;33m)\u001b[0m\u001b[1;33m:\u001b[0m\u001b[1;33m\u001b[0m\u001b[0m\n\u001b[1;32m---> 10\u001b[1;33m         \u001b[0mrow\u001b[0m\u001b[1;33m.\u001b[0m\u001b[0mappend\u001b[0m\u001b[1;33m(\u001b[0m\u001b[0mrow\u001b[0m\u001b[1;33m[\u001b[0m\u001b[0mn\u001b[0m\u001b[1;33m]\u001b[0m \u001b[1;33m*\u001b[0m \u001b[1;33m(\u001b[0m\u001b[0mk\u001b[0m \u001b[1;33m-\u001b[0m \u001b[0mn\u001b[0m\u001b[1;33m)\u001b[0m \u001b[1;33m/\u001b[0m \u001b[1;33m(\u001b[0m\u001b[0mn\u001b[0m \u001b[1;33m+\u001b[0m \u001b[1;36m1\u001b[0m\u001b[1;33m)\u001b[0m\u001b[1;33m)\u001b[0m\u001b[1;33m\u001b[0m\u001b[0m\n\u001b[0m\u001b[0;32m     11\u001b[0m \u001b[1;33m\u001b[0m\u001b[0m\n\u001b[0;32m     12\u001b[0m     \u001b[1;31m# middle element is repeated only for odd values of k\u001b[0m\u001b[1;33m\u001b[0m\u001b[1;33m\u001b[0m\u001b[0m\n",
      "\u001b[1;31mMemoryError\u001b[0m: "
     ]
    }
   ],
   "source": [
    "import sys\n",
    "result2 = pascals_triangle_2(sys.maxint - 1)"
   ]
  }
 ],
 "metadata": {
  "kernelspec": {
   "display_name": "Python 2",
   "language": "python",
   "name": "python2"
  },
  "language_info": {
   "codemirror_mode": {
    "name": "ipython",
    "version": 2
   },
   "file_extension": ".py",
   "mimetype": "text/x-python",
   "name": "python",
   "nbconvert_exporter": "python",
   "pygments_lexer": "ipython2",
   "version": "2.7.10"
  }
 },
 "nbformat": 4,
 "nbformat_minor": 0
}
