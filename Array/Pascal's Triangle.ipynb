{
 "cells": [
  {
   "cell_type": "markdown",
   "metadata": {},
   "source": [
    "# Pascal's Triangle"
   ]
  },
  {
   "cell_type": "markdown",
   "metadata": {},
   "source": [
    "## Naive Solution"
   ]
  },
  {
   "cell_type": "code",
   "execution_count": 30,
   "metadata": {
    "collapsed": false
   },
   "outputs": [
    {
     "name": "stdout",
     "output_type": "stream",
     "text": [
      "[1]\n",
      "[1, 1]\n",
      "[1, 2, 1]\n",
      "[1, 3, 3, 1]\n",
      "[1, 4, 6, 4, 1]\n",
      "[1, 5, 10, 10, 5, 1]\n",
      "[1, 6, 15, 20, 15, 6, 1]\n",
      "[1, 7, 21, 35, 35, 21, 7, 1]\n",
      "[1, 8, 28, 56, 70, 56, 28, 8, 1]\n"
     ]
    }
   ],
   "source": [
    "def pascals_triangle(k):\n",
    "    prev_row = None\n",
    "    for r in range(k+1):\n",
    "        row = [None] * r\n",
    "        for c in range(r):\n",
    "            if c == 0 or c == r-1:\n",
    "                row[c] = 1\n",
    "            else:\n",
    "                row[c] = prev_row[c] + prev_row[c-1]\n",
    "        prev_row = row\n",
    "    return row\n",
    "\n",
    "\n",
    "for k in xrange(1, 10):\n",
    "    print pascals_triangle(k)"
   ]
  },
  {
   "cell_type": "code",
   "execution_count": 40,
   "metadata": {
    "collapsed": false
   },
   "outputs": [
    {
     "name": "stdout",
     "output_type": "stream",
     "text": [
      "10000 loops, best of 3: 64.3 µs per loop\n"
     ]
    }
   ],
   "source": [
    "%%timeit\n",
    "pascals_triangle(20)"
   ]
  },
  {
   "cell_type": "markdown",
   "metadata": {},
   "source": [
    "## Optimised Solution"
   ]
  },
  {
   "cell_type": "code",
   "execution_count": 36,
   "metadata": {
    "collapsed": false
   },
   "outputs": [
    {
     "name": "stdout",
     "output_type": "stream",
     "text": [
      "[1, 1]\n",
      "[1, 2, 1]\n",
      "[1, 3, 3, 1]\n",
      "[1, 4, 6, 4, 1]\n",
      "[1, 5, 10, 10, 5, 1]\n",
      "[1, 6, 15, 20, 15, 6, 1]\n",
      "[1, 7, 21, 35, 35, 21, 7, 1]\n",
      "[1, 8, 28, 56, 70, 56, 28, 8, 1]\n",
      "[1, 9, 36, 84, 126, 126, 84, 36, 9, 1]\n"
     ]
    }
   ],
   "source": [
    "def pascals_triangle_2(k):\n",
    "    \n",
    "    row = [1]\n",
    "    \n",
    "    # only need to calculate half of the row, since the triangle is\n",
    "    # symmetric\n",
    "    for n in xrange(k / 2):\n",
    "        row.append(row[n] * (k - n) / (n + 1))\n",
    "        \n",
    "    # middle element is repeated only for odd values of k\n",
    "    r = list(reversed(row))\n",
    "    r = r[1:] if k % 2 == 0 else r\n",
    "    \n",
    "    return row + r\n",
    "\n",
    "\n",
    "for k in xrange(1, 10):\n",
    "    print pascals_triangle_2(k)"
   ]
  },
  {
   "cell_type": "code",
   "execution_count": 41,
   "metadata": {
    "collapsed": false
   },
   "outputs": [
    {
     "name": "stdout",
     "output_type": "stream",
     "text": [
      "100000 loops, best of 3: 5.24 µs per loop\n"
     ]
    }
   ],
   "source": [
    "%%timeit\n",
    "pascals_triangle_2(20)"
   ]
  }
 ],
 "metadata": {
  "kernelspec": {
   "display_name": "Python 2",
   "language": "python",
   "name": "python2"
  },
  "language_info": {
   "codemirror_mode": {
    "name": "ipython",
    "version": 2
   },
   "file_extension": ".py",
   "mimetype": "text/x-python",
   "name": "python",
   "nbconvert_exporter": "python",
   "pygments_lexer": "ipython2",
   "version": "2.7.6"
  }
 },
 "nbformat": 4,
 "nbformat_minor": 0
}
