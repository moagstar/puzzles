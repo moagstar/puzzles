{
 "cells": [
  {
   "cell_type": "markdown",
   "metadata": {},
   "source": [
    "# Pascal's Triangle"
   ]
  },
  {
   "cell_type": "code",
   "execution_count": 1,
   "metadata": {
    "collapsed": false
   },
   "outputs": [
    {
     "data": {
      "text/html": [
       "<a href=\"https://leetcode.com/problems/pascals-triangle\">Source : https://leetcode.com/problems/pascals-triangle</a><div class=\"question-content\">\n",
       "<p></p><p>Given <i>numRows</i>, generate the first <i>numRows</i> of Pascal's triangle.</p>\n",
       "<p>\r\n",
       "For example, given <i>numRows</i> = 5,<br/>\r\n",
       "Return\r\n",
       "</p><pre>\r\n",
       "[\r\n",
       "     [1],\r\n",
       "    [1,1],\r\n",
       "   [1,2,1],\r\n",
       "  [1,3,3,1],\r\n",
       " [1,4,6,4,1]\r\n",
       "]\r\n",
       "</pre>\n",
       "<div>\n",
       "<p><a href=\"/subscribe/\">Subscribe</a> to see which companies asked this question</p>\n",
       "</div>\n",
       "<div>\n",
       "<div class=\"btn btn-xs btn-warning\" id=\"tags\">Show Tags</div>\n",
       "<span class=\"hidebutton\">\n",
       "<a class=\"btn btn-xs btn-primary\" href=\"/tag/array/\">Array</a>\n",
       "</span>\n",
       "</div>\n",
       "<div>\n",
       "<div class=\"btn btn-xs btn-warning\" id=\"similar\">Show Similar Problems</div>\n",
       "<span class=\"hidebutton\">\n",
       "<a class=\"btn btn-xs btn-primary\" href=\"/problems/pascals-triangle-ii/\"> (E) Pascal's Triangle II</a>\n",
       "</span>\n",
       "</div>\n",
       "</div>"
      ],
      "text/plain": [
       "<IPython.core.display.HTML object>"
      ]
     },
     "metadata": {},
     "output_type": "display_data"
    }
   ],
   "source": [
    "import sys; sys.path.append('../..')\n",
    "from puzzles import leet_puzzle\n",
    "leet_puzzle('pascals-triangle')"
   ]
  },
  {
   "cell_type": "markdown",
   "metadata": {},
   "source": [
    "## Naive Solution"
   ]
  },
  {
   "cell_type": "code",
   "execution_count": null,
   "metadata": {
    "collapsed": false
   },
   "outputs": [],
   "source": [
    "def pascals_triangle(k):\n",
    "    prev_row = None\n",
    "    for r in range(k+1):\n",
    "        row = [None] * r\n",
    "        for c in range(r):\n",
    "            if c == 0 or c == r-1:\n",
    "                row[c] = 1\n",
    "            else:\n",
    "                row[c] = prev_row[c] + prev_row[c-1]\n",
    "        prev_row = row\n",
    "    return row\n",
    "\n",
    "\n",
    "for k in xrange(1, 10):\n",
    "    print pascals_triangle(k)"
   ]
  },
  {
   "cell_type": "code",
   "execution_count": null,
   "metadata": {
    "collapsed": false
   },
   "outputs": [],
   "source": [
    "%%timeit\n",
    "pascals_triangle(20)"
   ]
  },
  {
   "cell_type": "markdown",
   "metadata": {},
   "source": [
    "## Optimised Solution"
   ]
  },
  {
   "cell_type": "code",
   "execution_count": null,
   "metadata": {
    "collapsed": false
   },
   "outputs": [],
   "source": [
    "def pascals_triangle_2(k):\n",
    "    \n",
    "    row = [1]\n",
    "    \n",
    "    # only need to calculate half of the row, since the triangle is\n",
    "    # symmetric\n",
    "    for n in xrange(k / 2):\n",
    "        row.append(row[n] * (k - n) / (n + 1))\n",
    "        \n",
    "    # middle element is repeated only for odd values of k\n",
    "    r = list(reversed(row))\n",
    "    r = r[1:] if k % 2 == 0 else r\n",
    "    \n",
    "    return row + r\n",
    "\n",
    "\n",
    "for k in xrange(1, 10):\n",
    "    print pascals_triangle_2(k)"
   ]
  },
  {
   "cell_type": "code",
   "execution_count": null,
   "metadata": {
    "collapsed": false
   },
   "outputs": [],
   "source": [
    "%%timeit\n",
    "pascals_triangle_2(20)"
   ]
  }
 ],
 "metadata": {
  "kernelspec": {
   "display_name": "Python 2",
   "language": "python",
   "name": "python2"
  },
  "language_info": {
   "codemirror_mode": {
    "name": "ipython",
    "version": 2
   },
   "file_extension": ".py",
   "mimetype": "text/x-python",
   "name": "python",
   "nbconvert_exporter": "python",
   "pygments_lexer": "ipython2",
   "version": "2.7.6"
  }
 },
 "nbformat": 4,
 "nbformat_minor": 0
}
