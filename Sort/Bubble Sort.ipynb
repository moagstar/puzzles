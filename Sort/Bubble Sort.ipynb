{
 "cells": [
  {
   "cell_type": "markdown",
   "metadata": {},
   "source": [
    "# Bubble Sort\n",
    "Bubble sort is one of the simplest sorting algorihtms to understand, however it is also one of the most inefficient. In the worst case the time complexity is O(n²)"
   ]
  },
  {
   "cell_type": "code",
   "execution_count": 8,
   "metadata": {
    "collapsed": false
   },
   "outputs": [
    {
     "data": {
      "text/plain": [
       "[0.03504801894079712,\n",
       " 0.1687530283429841,\n",
       " 0.24861352535831183,\n",
       " 0.3274048046031258,\n",
       " 0.41639752736128643,\n",
       " 0.43202640650079094,\n",
       " 0.6789017249849019,\n",
       " 0.6999805984998514,\n",
       " 0.8414538519221423,\n",
       " 0.8827874067516712]"
      ]
     },
     "execution_count": 8,
     "metadata": {},
     "output_type": "execute_result"
    }
   ],
   "source": [
    "import random\n",
    "\n",
    "def bubblesort(input_array):\n",
    "    length = len(input_array)\n",
    "    for i in range(length):\n",
    "        for j in range(length - 1):\n",
    "            if input_array[j] > input_array[j + 1]:\n",
    "                input_array[j], input_array[j + 1] = input_array[j + 1], input_array[j]\n",
    "    return input_array\n",
    "                \n",
    "bubblesort([random.random() for i in range(10)])"
   ]
  }
 ],
 "metadata": {
  "kernelspec": {
   "display_name": "Python 2",
   "language": "python",
   "name": "python2"
  },
  "language_info": {
   "codemirror_mode": {
    "name": "ipython",
    "version": 2
   },
   "file_extension": ".py",
   "mimetype": "text/x-python",
   "name": "python",
   "nbconvert_exporter": "python",
   "pygments_lexer": "ipython2",
   "version": "2.7.10"
  }
 },
 "nbformat": 4,
 "nbformat_minor": 0
}
